{
 "cells": [
  {
   "cell_type": "markdown",
   "metadata": {},
   "source": [
    "# Project Euler\n",
    "## https://projecteuler.net"
   ]
  },
  {
   "cell_type": "markdown",
   "metadata": {},
   "source": [
    "Problem 3\n",
    "======\n",
    "> ## The prime factors of 13195 are 5, 7, 13 and 29.\n",
    "> ## What is the largest prime factor of the number 600851475143 ?\n",
    "### : 600851475143의 가장 큰 소인수는?\n",
    "### idea : 작은 소수부터 나눠본다. 마지막으로 남은 수가 가장 큰 소인수."
   ]
  },
  {
   "cell_type": "code",
   "execution_count": 38,
   "metadata": {
    "scrolled": true
   },
   "outputs": [
    {
     "name": "stdout",
     "output_type": "stream",
     "text": [
      "600851475143 = 71*839*1471*6857\n"
     ]
    }
   ],
   "source": [
    "import math\n",
    "\n",
    "def divideMinimalFactor(target):\n",
    "    i = 2\n",
    "    while (i<math.floor(target)):\n",
    "        if (target%i == 0):\n",
    "            print(i, end='*')\n",
    "            divideMinimalFactor(target/i)\n",
    "            return\n",
    "        i += 1\n",
    "    print(i)\n",
    "\n",
    "target = 600851475143\n",
    "print(target, end=' = ')\n",
    "divideMinimalFactor(target)"
   ]
  }
 ],
 "metadata": {
  "kernelspec": {
   "display_name": "Python 3",
   "language": "python",
   "name": "python3"
  },
  "language_info": {
   "codemirror_mode": {
    "name": "ipython",
    "version": 3
   },
   "file_extension": ".py",
   "mimetype": "text/x-python",
   "name": "python",
   "nbconvert_exporter": "python",
   "pygments_lexer": "ipython3",
   "version": "3.7.4"
  }
 },
 "nbformat": 4,
 "nbformat_minor": 4
}
